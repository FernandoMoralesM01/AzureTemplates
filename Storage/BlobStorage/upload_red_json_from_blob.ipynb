{
 "cells": [
  {
   "cell_type": "code",
   "execution_count": null,
   "metadata": {},
   "outputs": [],
   "source": [
    "from azure.storage.blob import BlobServiceClient\n",
    "import matplotlib.pyplot as plt\n",
    "import datetime\n",
    "import sys\n",
    "import os, uuid\n",
    "import sys\n",
    "from azure.storage.blob import BlobServiceClient, __version__\n",
    "from azure.storage.blob import BlobServiceClient, ContentSettings\n",
    "\n",
    "import os\n",
    "\n",
    "\n",
    "import json"
   ]
  },
  {
   "cell_type": "code",
   "execution_count": null,
   "metadata": {},
   "outputs": [],
   "source": [
    "connect_str = os.environ['AZURE_STORAGE_CONNECTION_STRING']\n",
    "container_name = os.environ['AZURE_STORAGE_CONTAINER_NAME']"
   ]
  },
  {
   "cell_type": "code",
   "execution_count": null,
   "metadata": {},
   "outputs": [],
   "source": [
    "\n",
    "def update_json_blob(data, name_blob):\n",
    "    blob_service_client = BlobServiceClient.from_connection_string(connect_str)\n",
    "    container_client = blob_service_client.get_container_client(container_name)\n",
    "\n",
    "    blob_data = json.dumps(data, ensure_ascii=False).encode('utf-8')\n",
    "\n",
    "    blob_client = container_client.get_blob_client(name_blob)\n",
    "    blob_client.upload_blob(blob_data, overwrite=True, content_settings=ContentSettings(content_type='application/json'))\n",
    "\n",
    "\n",
    "def read_json_blob(name_blob):\n",
    "    blob_service_client = BlobServiceClient.from_connection_string(connect_str)\n",
    "    container_client = blob_service_client.get_container_client(container_name)\n",
    "    blob_client = container_client.get_blob_client(name_blob)\n",
    "\n",
    "    try:\n",
    "        downloaded_blob = blob_client.download_blob()\n",
    "        data = json.loads(downloaded_blob.readall().decode('utf-8'))\n",
    "    except:\n",
    "        data = []\n",
    "    return data"
   ]
  }
 ],
 "metadata": {
  "language_info": {
   "name": "python"
  }
 },
 "nbformat": 4,
 "nbformat_minor": 2
}
