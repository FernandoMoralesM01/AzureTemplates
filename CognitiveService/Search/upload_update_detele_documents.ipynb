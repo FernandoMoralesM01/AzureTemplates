{
 "cells": [
  {
   "cell_type": "markdown",
   "metadata": {},
   "source": [
    "# Upload - Update and delete documents on an index\n",
    "\n",
    "* Delete documents\n",
    "* Upload documents\n",
    "* Update documents\n",
    "\n",
    "\n",
    "This functions were developed for an implementation on a sharepoint site"
   ]
  },
  {
   "cell_type": "code",
   "execution_count": 3,
   "metadata": {},
   "outputs": [],
   "source": [
    "from openai import AzureOpenAI\n",
    "from tenacity import retry, wait_random_exponential, stop_after_attempt  \n",
    "from azure.core.credentials import AzureKeyCredential \n",
    "from azure.search.documents import SearchClient  \n",
    "\n",
    "import os\n",
    "from dotenv import load_dotenv"
   ]
  },
  {
   "cell_type": "code",
   "execution_count": 4,
   "metadata": {},
   "outputs": [],
   "source": [
    "load_dotenv(\"pfd_conf.env\")\n",
    "\n",
    "connect_str = os.getenv(\"AZURE_STORAGE_CONNECTION_STRING\")\n",
    "service_endpoint = os.getenv(\"AZURE_STORAGE_SERVICE_ENDPOINT\")\n",
    "\n",
    "index_name = os.getenv(\"AZURE_SEARCH_INDEX_NAME\")\n",
    "key = os.getenv(\"AZURE_SEARCH_KEY\")\n",
    "\n",
    "model = os.getenv(\"AZURE_EMBEDDINGS_MODEL\")\n",
    "credential = AzureKeyCredential(key)\n",
    "endpoint = os.getenv(\"AZUREOPENAI_ENDPOINT\")\n",
    "deployment = os.getenv(\"AZUREOPENAI_DEPLOYMENT\")\n",
    "\n",
    "\n",
    "container_name = \"containername\"  \n",
    "blob_name = 'original.json'  \n",
    "blob_vectorname = 'combinedVector.json'\n",
    "\n"
   ]
  },
  {
   "cell_type": "code",
   "execution_count": null,
   "metadata": {},
   "outputs": [],
   "source": [
    "client_embeddings = AzureOpenAI(\n",
    "  api_key = os.getenv(\"OPENAI_EMBEDDINGS_KEY\"),  \n",
    "  api_version = os.getenv(\"OPENAI_EMBEDDINGS_VERSION\"),\n",
    "  azure_endpoint = os.getenv(\"OPENAI_EMBEDDINGS_ENDPOINT\")\n",
    ")"
   ]
  },
  {
   "cell_type": "code",
   "execution_count": 5,
   "metadata": {},
   "outputs": [],
   "source": [
    "@retry(wait=wait_random_exponential(min=1, max=10), stop=stop_after_attempt(6))\n",
    "def generate_embeddings(text, model=model):\n",
    "    return client_embeddings.embeddings.create(input = [text], model=model).data[0].embedding\n"
   ]
  },
  {
   "cell_type": "markdown",
   "metadata": {},
   "source": [
    "# Performe the function a selected index"
   ]
  },
  {
   "cell_type": "code",
   "execution_count": 7,
   "metadata": {},
   "outputs": [],
   "source": [
    "def selecciona_indice(folder):\n",
    "    ret = True\n",
    "    if folder == \"ARGENTINA\":\n",
    "        index_name = \"argentinaindex\"\n",
    "        ret = True\n",
    "    elif folder == \"MÉXICO\":\n",
    "        index_name = \"mexicoindex\"\n",
    "        ret = True\n",
    "    elif folder == \"ECUADOR\":\n",
    "        index_name = \"ecuadorindex\"\n",
    "        ret = True\n",
    "    elif folder == \"PERÚ\":\n",
    "        index_name = \"peruindex\"\n",
    "        ret = True\n",
    "    else:\n",
    "        ret = False\n",
    "        index_name = \"\"\n",
    "    return ret, index_name"
   ]
  },
  {
   "cell_type": "code",
   "execution_count": 8,
   "metadata": {},
   "outputs": [],
   "source": [
    "def upload_or_update(folder, filename, content, index_name):\n",
    "    search_client = SearchClient(endpoint=service_endpoint, index_name=index_name, credential=credential)\n",
    "    results = list(search_client.search(search_text=filename, highlight_fields=\"filename\", filter=f\"filename eq '{filename}'\"))\n",
    "    \n",
    "    document_count = search_client.get_document_count()\n",
    "    \n",
    "    if not results:\n",
    "        print(\"Subir\")\n",
    "        documents_to_upsert = [{\n",
    "            \"id\": str(document_count + 1),\n",
    "            \"Area\": folder,\n",
    "            \"filename\": filename,\n",
    "            \"content\": content\n",
    "        }]\n",
    "    else:\n",
    "        # If results are found, update the existing document\n",
    "\n",
    "        print(\"Actualizar\")\n",
    "        documents_to_upsert = [{\n",
    "            \"id\": results[0]['id'],  \n",
    "            \"Area\": folder,\n",
    "            \"filename\": filename,\n",
    "            \"content\": content\n",
    "        }]\n",
    "    \n",
    "    # Common processing for both new and existing documents\n",
    "    for doc in documents_to_upsert:\n",
    "        doc['AreaVector'] = generate_embeddings(doc['Area'], model)\n",
    "        doc['contentVector'] = generate_embeddings(doc['content'], model)\n",
    "        doc['filenameVector'] = generate_embeddings(doc['filename'], model)\n",
    "    \n",
    "    upsert_result = search_client.merge_or_upload_documents(documents=documents_to_upsert)\n"
   ]
  },
  {
   "cell_type": "code",
   "execution_count": 9,
   "metadata": {},
   "outputs": [],
   "source": [
    "def borrar_documento(filename, index_name):\n",
    "    search_client = SearchClient(endpoint=service_endpoint, index_name=index_name, credential=credential)\n",
    "    \n",
    "    results = list(search_client.search(search_text=filename, highlight_fields=\"filename\", filter = f\"filename eq '{filename}'\"))\n",
    "\n",
    "    for result in results:\n",
    "        print(f\"Found document: {result['id']} with Field1: {result['filename']}\")\n",
    "    if results:\n",
    "        documents_to_delete = [{\"id\": result['id']}]\n",
    "        delete_results = search_client.delete_documents(documents=documents_to_delete)\n",
    "\n",
    "        for result in delete_results:\n",
    "            if result.succeeded:\n",
    "                print(f\"Document with ID {result.key} deleted successfully.\")\n",
    "            else:\n",
    "                print(f\"Failed to delete document with ID {result.key}. Error: {result.error_message}\")\n",
    "    else:\n",
    "        print(\"El archivo no existe\")"
   ]
  },
  {
   "cell_type": "code",
   "execution_count": 10,
   "metadata": {},
   "outputs": [],
   "source": [
    "def realiza_accion(folder, filename, content = None,  accion = \"subir\"):\n",
    "    ret, index_name = selecciona_indice(folder)\n",
    "    if ret:\n",
    "        if accion == \"subir\":\n",
    "            upload_or_update(folder, filename, content=content, index_name=index_name)\n",
    "            upload_or_update(folder, filename, content=content, index_name=\"someindex\")\n",
    "        elif accion == \"borrar\":\n",
    "            borrar_documento(filename, index_name)\n",
    "            borrar_documento(filename, \"someindex\")\n",
    "        elif accion == \"modificar\":\n",
    "            upload_or_update(folder, filename, content=content, index_name=index_name)\n",
    "            upload_or_update(folder, filename, content=content, index_name=\"someindex\")\n",
    "        else:\n",
    "            print(\"Acción no válida\")\n",
    "    else:\n",
    "        print(\"Carpeta no válida\")"
   ]
  },
  {
   "cell_type": "code",
   "execution_count": 27,
   "metadata": {},
   "outputs": [],
   "source": [
    "folder = \"MÉXICO\"\n",
    "filename = \"pepe.pdf\"\n",
    "accion = \"subir\"\n",
    "content = \"Hola, soy pepe y soy increible\""
   ]
  },
  {
   "cell_type": "code",
   "execution_count": 28,
   "metadata": {},
   "outputs": [
    {
     "name": "stdout",
     "output_type": "stream",
     "text": [
      "Subir\n",
      "Subir\n"
     ]
    }
   ],
   "source": [
    "realiza_accion(folder=folder, filename=filename, content=content, accion=\"subir\")"
   ]
  }
 ],
 "metadata": {
  "kernelspec": {
   "display_name": "Python 3",
   "language": "python",
   "name": "python3"
  },
  "language_info": {
   "codemirror_mode": {
    "name": "ipython",
    "version": 3
   },
   "file_extension": ".py",
   "mimetype": "text/x-python",
   "name": "python",
   "nbconvert_exporter": "python",
   "pygments_lexer": "ipython3",
   "version": "3.11.8"
  }
 },
 "nbformat": 4,
 "nbformat_minor": 2
}
